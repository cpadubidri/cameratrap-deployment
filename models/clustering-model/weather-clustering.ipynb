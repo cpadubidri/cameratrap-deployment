{
 "cells": [
  {
   "cell_type": "code",
   "execution_count": 71,
   "metadata": {},
   "outputs": [],
   "source": [
    "import pickle\n",
    "import numpy as np\n",
    "import os\n",
    "import pandas as pd\n",
    "from sklearn.decomposition import PCA\n",
    "from sklearn.cluster import KMeans\n",
    "import csv\n",
    "import json\n",
    "\n",
    "def csv_to_geojson(filename, output_geojson, n_clusters=10):\n",
    "    # for i in range(0,n_clusters):\n",
    "    geojson = {\n",
    "    \"type\": \"FeatureCollection\",\n",
    "    \"features\": []\n",
    "    }\n",
    "    with open(filename, newline='', encoding='utf-8') as csvfile:\n",
    "        reader = csv.DictReader(csvfile)\n",
    "        for row in reader:\n",
    "            # print(int(row['cluster']))\n",
    "            # if int(row['cluster'])==i:\n",
    "            feature = {\n",
    "                \"type\": \"Feature\",\n",
    "                \"geometry\": {\n",
    "                    \"type\": \"Point\",\n",
    "                    \"coordinates\": [float(row['lon']), float(row['lat'])]\n",
    "                },\n",
    "                \"properties\": {\n",
    "                    \"label\": row['label'],\n",
    "                    # \"PC1\": float(row['PC1']),\n",
    "                    # \"PC2\": float(row['PC2']),\n",
    "                    # \"PC3\": float(row['PC3']),\n",
    "                    \"cluster\": int(row['cluster']),\n",
    "                    # \"path\": row['path']\n",
    "                }\n",
    "            }\n",
    "            geojson[\"features\"].append(feature)\n",
    "                # break\n",
    "        geojson_file_path = f'{output_geojson}/cluster.geojson'\n",
    "        # print(geojson_file_path)\n",
    "\n",
    "        with open(geojson_file_path, 'w', encoding='utf-8') as geojsonfile:\n",
    "            json.dump(geojson, geojsonfile, ensure_ascii=False, indent=4)"
   ]
  },
  {
   "cell_type": "markdown",
   "metadata": {},
   "source": [
    "#### PCA (if needed)"
   ]
  },
  {
   "cell_type": "code",
   "execution_count": 43,
   "metadata": {},
   "outputs": [],
   "source": [
    "def apply_pca(embeddings, n_components=20,start_component=5):\n",
    "    pca = PCA(n_components)\n",
    "    reduced_embeddings = pca.fit_transform(embeddings)\n",
    "    print(f'Variance {pca.explained_variance_ratio_}')\n",
    "    print(f'Variance {pca.explained_variance_ratio_[start_component:].sum()}')\n",
    "\n",
    "\n",
    "    return reduced_embeddings"
   ]
  },
  {
   "cell_type": "markdown",
   "metadata": {},
   "source": [
    "### Clustering algo"
   ]
  },
  {
   "cell_type": "code",
   "execution_count": 58,
   "metadata": {},
   "outputs": [],
   "source": [
    "def apply_clustering(embeddings, labels, lat, lon, n_clusters, filename):\n",
    "    print(embeddings.shape)\n",
    "    print(\"K-Mean in process\")\n",
    "    kmeans = KMeans(n_clusters=n_clusters)\n",
    "    clusters = kmeans.fit_predict(embeddings)\n",
    "\n",
    "    df = pd.DataFrame({\n",
    "    'label': labels,\n",
    "    'cluster': clusters,\n",
    "    'lat': lat,\n",
    "    'lon':lon\n",
    "    })\n",
    "\n",
    "    df.to_csv(filename, index=False)"
   ]
  },
  {
   "cell_type": "code",
   "execution_count": 79,
   "metadata": {},
   "outputs": [
    {
     "ename": "SyntaxError",
     "evalue": "invalid syntax (<unknown>, line 1)",
     "output_type": "error",
     "traceback": [
      "Traceback \u001b[0;36m(most recent call last)\u001b[0m:\n",
      "\u001b[0m  File \u001b[1;32m~/anaconda3/envs/PyTorch/lib/python3.9/site-packages/IPython/core/interactiveshell.py:3433\u001b[0m in \u001b[1;35mrun_code\u001b[0m\n    exec(code_obj, self.user_global_ns, self.user_ns)\u001b[0m\n",
      "\u001b[0m  Cell \u001b[1;32mIn [79], line 9\u001b[0m\n    data['embedding'] = data['embedding'].apply(convert_to_list)\u001b[0m\n",
      "\u001b[0m  File \u001b[1;32m~/anaconda3/envs/PyTorch/lib/python3.9/site-packages/pandas/core/series.py:4630\u001b[0m in \u001b[1;35mapply\u001b[0m\n    return SeriesApply(self, func, convert_dtype, args, kwargs).apply()\u001b[0m\n",
      "\u001b[0m  File \u001b[1;32m~/anaconda3/envs/PyTorch/lib/python3.9/site-packages/pandas/core/apply.py:1025\u001b[0m in \u001b[1;35mapply\u001b[0m\n    return self.apply_standard()\u001b[0m\n",
      "\u001b[0m  File \u001b[1;32m~/anaconda3/envs/PyTorch/lib/python3.9/site-packages/pandas/core/apply.py:1076\u001b[0m in \u001b[1;35mapply_standard\u001b[0m\n    mapped = lib.map_infer(\u001b[0m\n",
      "\u001b[0m  File \u001b[1;32mpandas/_libs/lib.pyx:2834\u001b[0m in \u001b[1;35mpandas._libs.lib.map_infer\u001b[0m\n",
      "\u001b[0m  Cell \u001b[1;32mIn [79], line 4\u001b[0m in \u001b[1;35mconvert_to_list\u001b[0m\n    return ast.literal_eval(embedding_str)\u001b[0m\n",
      "\u001b[0m  File \u001b[1;32m~/anaconda3/envs/PyTorch/lib/python3.9/ast.py:62\u001b[0m in \u001b[1;35mliteral_eval\u001b[0m\n    node_or_string = parse(node_or_string, mode='eval')\u001b[0m\n",
      "\u001b[0;36m  File \u001b[0;32m~/anaconda3/envs/PyTorch/lib/python3.9/ast.py:50\u001b[0;36m in \u001b[0;35mparse\u001b[0;36m\n\u001b[0;31m    return compile(source, filename, mode, flags,\u001b[0;36m\n",
      "\u001b[0;36m  File \u001b[0;32m<unknown>:1\u001b[0;36m\u001b[0m\n\u001b[0;31m    [-2.521943   -0.5231237  -0.40994224  0.54430205 -0.5198796  -0.7473808\u001b[0m\n\u001b[0m                                          ^\u001b[0m\n\u001b[0;31mSyntaxError\u001b[0m\u001b[0;31m:\u001b[0m invalid syntax\n"
     ]
    }
   ],
   "source": [
    "import ast\n",
    "\n",
    "def convert_to_list(embedding_str):\n",
    "    return ast.literal_eval(embedding_str)\n",
    "\n",
    "filename=f'data/weather-embedding.csv'\n",
    "\n",
    "data = pd.read_csv(filename)\n",
    "data['embedding'] = data['embedding'].apply(convert_to_list)\n",
    "embeddings = np.array(data['embedding'].tolist())\n",
    "labels = data['cell-id'].values\n",
    "\n",
    "# print(\"Labels shape:\", labels.shape)\n",
    "# print(\"Embeddings shape:\", embeddings.shape)\n",
    "# print(\"First embedding:\", embeddings[0])\n",
    "\n",
    "\n",
    "coord_data = pd.read_csv('data/location.csv')\n",
    "coord_data_sub = coord_data[coord_data['cell-id'].isin(labels)]\n",
    "\n",
    "lat = coord_data_sub['lat']\n",
    "lon = coord_data_sub['lon']"
   ]
  },
  {
   "cell_type": "markdown",
   "metadata": {},
   "source": [
    "##### Apply PCA if needed"
   ]
  },
  {
   "cell_type": "code",
   "execution_count": 45,
   "metadata": {},
   "outputs": [],
   "source": [
    "# n_components=16  # PCA components\n",
    "# reduced_embeddings = apply_pca(embeddings, n_components=n_components)\n"
   ]
  },
  {
   "cell_type": "code",
   "execution_count": 69,
   "metadata": {},
   "outputs": [
    {
     "name": "stdout",
     "output_type": "stream",
     "text": [
      "(4864, 32)\n",
      "K-Mean in process\n"
     ]
    },
    {
     "name": "stderr",
     "output_type": "stream",
     "text": [
      "/home/savvas/anaconda3/envs/PyTorch/lib/python3.9/site-packages/sklearn/cluster/_kmeans.py:870: FutureWarning: The default value of `n_init` will change from 10 to 'auto' in 1.4. Set the value of `n_init` explicitly to suppress the warning\n",
      "  warnings.warn(\n"
     ]
    }
   ],
   "source": [
    "\n",
    "output_geojson = '/home/savvas/SUPER-NAS/USERS/Chirag/TEMP-Folder/emb-cluster'\n",
    "n_clusters = 7 \n",
    "\n",
    "apply_clustering(embeddings, labels=labels, lat=lat, lon=lon, n_clusters=n_clusters, filename='weather-cluster.csv')\n"
   ]
  },
  {
   "cell_type": "code",
   "execution_count": 78,
   "metadata": {},
   "outputs": [],
   "source": [
    "filename='weather-cluster.csv'\n",
    "csv_to_geojson(filename,output_geojson, n_clusters=n_clusters)\n"
   ]
  },
  {
   "cell_type": "code",
   "execution_count": 77,
   "metadata": {},
   "outputs": [
    {
     "data": {
      "text/plain": [
       "True"
      ]
     },
     "execution_count": 77,
     "metadata": {},
     "output_type": "execute_result"
    }
   ],
   "source": [
    "os.path.exists('/home/savvas/SUPER-NAS/USERS/Chirag/TEMP-Folder/emb-cluster')"
   ]
  },
  {
   "cell_type": "code",
   "execution_count": null,
   "metadata": {},
   "outputs": [],
   "source": []
  }
 ],
 "metadata": {
  "kernelspec": {
   "display_name": "PyTorch",
   "language": "python",
   "name": "python3"
  },
  "language_info": {
   "codemirror_mode": {
    "name": "ipython",
    "version": 3
   },
   "file_extension": ".py",
   "mimetype": "text/x-python",
   "name": "python",
   "nbconvert_exporter": "python",
   "pygments_lexer": "ipython3",
   "version": "3.9.12"
  }
 },
 "nbformat": 4,
 "nbformat_minor": 2
}
