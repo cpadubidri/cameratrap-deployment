{
 "cells": [
  {
   "cell_type": "code",
   "execution_count": 1,
   "metadata": {},
   "outputs": [
    {
     "name": "stderr",
     "output_type": "stream",
     "text": [
      "/home/savvas/anaconda3/envs/PyTorch/lib/python3.9/site-packages/tqdm/auto.py:21: TqdmWarning: IProgress not found. Please update jupyter and ipywidgets. See https://ipywidgets.readthedocs.io/en/stable/user_install.html\n",
      "  from .autonotebook import tqdm as notebook_tqdm\n"
     ]
    }
   ],
   "source": [
    "from model import FCAE\n",
    "from dataGenTab import DataGen\n",
    "from utils import utils\n",
    "import pandas as pd\n",
    "import os\n",
    "from torch.utils.data import Dataset, DataLoader\n",
    "import torch\n"
   ]
  },
  {
   "cell_type": "markdown",
   "metadata": {},
   "source": [
    "## Datafeeder"
   ]
  },
  {
   "cell_type": "code",
   "execution_count": 2,
   "metadata": {},
   "outputs": [
    {
     "name": "stdout",
     "output_type": "stream",
     "text": [
      "4864\n"
     ]
    }
   ],
   "source": [
    "config_path = 'config.json'\n",
    "config = utils.Configuration(config_path)\n",
    "\n",
    "df = pd.read_csv(os.path.join(config.datapath,'data_aet.csv'))\n",
    "ids = list(df['cell-id'])\n",
    "ids = sorted(ids)\n",
    "print(len(ids))\n",
    "\n",
    "\n",
    "train_dataset = DataGen(ids,  config_path=config_path)\n",
    "\n",
    "\n",
    "train_loader = DataLoader(train_dataset, batch_size=config.batch_size)\n"
   ]
  },
  {
   "cell_type": "markdown",
   "metadata": {},
   "source": [
    "## Model"
   ]
  },
  {
   "cell_type": "code",
   "execution_count": 3,
   "metadata": {},
   "outputs": [
    {
     "data": {
      "text/plain": [
       "FCAE(\n",
       "  (encoder): Sequential(\n",
       "    (0): Linear(in_features=168, out_features=128, bias=True)\n",
       "    (1): ReLU()\n",
       "    (2): Linear(in_features=128, out_features=64, bias=True)\n",
       "    (3): ReLU()\n",
       "    (4): Linear(in_features=64, out_features=32, bias=True)\n",
       "    (5): ReLU()\n",
       "  )\n",
       "  (decoder): Sequential(\n",
       "    (0): Linear(in_features=32, out_features=64, bias=True)\n",
       "    (1): ReLU()\n",
       "    (2): Linear(in_features=64, out_features=128, bias=True)\n",
       "    (3): ReLU()\n",
       "    (4): Linear(in_features=128, out_features=168, bias=True)\n",
       "    (5): Sigmoid()\n",
       "  )\n",
       ")"
      ]
     },
     "execution_count": 3,
     "metadata": {},
     "output_type": "execute_result"
    }
   ],
   "source": [
    "input_dim = 14 * 12  # Flattened input\n",
    "filters = [128,64,32] #last number for latentspace\n",
    "model = FCAE(input_dim, filters)\n",
    "state_dict = torch.load('./train-results/weathermodel-3/weathermodel-3_final.pth', map_location=torch.device('cpu'))\n",
    "model.load_state_dict(state_dict)\n",
    "model.eval()\n",
    "\n"
   ]
  },
  {
   "cell_type": "code",
   "execution_count": 10,
   "metadata": {},
   "outputs": [
    {
     "data": {
      "text/html": [
       "<div>\n",
       "<style scoped>\n",
       "    .dataframe tbody tr th:only-of-type {\n",
       "        vertical-align: middle;\n",
       "    }\n",
       "\n",
       "    .dataframe tbody tr th {\n",
       "        vertical-align: top;\n",
       "    }\n",
       "\n",
       "    .dataframe thead th {\n",
       "        text-align: right;\n",
       "    }\n",
       "</style>\n",
       "<table border=\"1\" class=\"dataframe\">\n",
       "  <thead>\n",
       "    <tr style=\"text-align: right;\">\n",
       "      <th></th>\n",
       "      <th>cell-id</th>\n",
       "      <th>embedding</th>\n",
       "    </tr>\n",
       "  </thead>\n",
       "  <tbody>\n",
       "    <tr>\n",
       "      <th>0</th>\n",
       "      <td>1</td>\n",
       "      <td>[0.0, 2.9571898, 0.0, 3.1007698, 0.0, 0.0, 2.1...</td>\n",
       "    </tr>\n",
       "    <tr>\n",
       "      <th>1</th>\n",
       "      <td>2</td>\n",
       "      <td>[0.0, 2.0444605, 0.0, 1.8483584, 0.0, 0.0, 2.4...</td>\n",
       "    </tr>\n",
       "    <tr>\n",
       "      <th>2</th>\n",
       "      <td>3</td>\n",
       "      <td>[0.0, 3.8294566, 0.0, 2.1116407, 0.0, 0.0, 1.6...</td>\n",
       "    </tr>\n",
       "    <tr>\n",
       "      <th>3</th>\n",
       "      <td>4</td>\n",
       "      <td>[0.0, 1.901012, 0.0, 2.4555795, 0.0, 0.0, 0.81...</td>\n",
       "    </tr>\n",
       "    <tr>\n",
       "      <th>4</th>\n",
       "      <td>5</td>\n",
       "      <td>[0.0, 2.6817884, 0.0, 1.9616616, 0.0, 0.0, 1.3...</td>\n",
       "    </tr>\n",
       "    <tr>\n",
       "      <th>...</th>\n",
       "      <td>...</td>\n",
       "      <td>...</td>\n",
       "    </tr>\n",
       "    <tr>\n",
       "      <th>4859</th>\n",
       "      <td>4885</td>\n",
       "      <td>[0.0, 0.0, 0.0, 2.2069588, 0.0, 0.0, 0.0, 0.0,...</td>\n",
       "    </tr>\n",
       "    <tr>\n",
       "      <th>4860</th>\n",
       "      <td>4886</td>\n",
       "      <td>[0.0, 0.0, 0.0, 2.1894383, 0.0, 0.0, 0.0, 0.0,...</td>\n",
       "    </tr>\n",
       "    <tr>\n",
       "      <th>4861</th>\n",
       "      <td>4887</td>\n",
       "      <td>[0.0, 0.0, 0.0, 2.0301235, 0.0, 0.0, 0.0, 0.0,...</td>\n",
       "    </tr>\n",
       "    <tr>\n",
       "      <th>4862</th>\n",
       "      <td>4888</td>\n",
       "      <td>[0.0, 0.0, 0.0, 2.063947, 0.0, 0.0, 0.0, 0.0, ...</td>\n",
       "    </tr>\n",
       "    <tr>\n",
       "      <th>4863</th>\n",
       "      <td>4890</td>\n",
       "      <td>[0.0, 0.0, 0.0, 1.9121394, 0.0, 0.0, 0.0, 0.0,...</td>\n",
       "    </tr>\n",
       "  </tbody>\n",
       "</table>\n",
       "<p>4864 rows × 2 columns</p>\n",
       "</div>"
      ],
      "text/plain": [
       "      cell-id                                          embedding\n",
       "0           1  [0.0, 2.9571898, 0.0, 3.1007698, 0.0, 0.0, 2.1...\n",
       "1           2  [0.0, 2.0444605, 0.0, 1.8483584, 0.0, 0.0, 2.4...\n",
       "2           3  [0.0, 3.8294566, 0.0, 2.1116407, 0.0, 0.0, 1.6...\n",
       "3           4  [0.0, 1.901012, 0.0, 2.4555795, 0.0, 0.0, 0.81...\n",
       "4           5  [0.0, 2.6817884, 0.0, 1.9616616, 0.0, 0.0, 1.3...\n",
       "...       ...                                                ...\n",
       "4859     4885  [0.0, 0.0, 0.0, 2.2069588, 0.0, 0.0, 0.0, 0.0,...\n",
       "4860     4886  [0.0, 0.0, 0.0, 2.1894383, 0.0, 0.0, 0.0, 0.0,...\n",
       "4861     4887  [0.0, 0.0, 0.0, 2.0301235, 0.0, 0.0, 0.0, 0.0,...\n",
       "4862     4888  [0.0, 0.0, 0.0, 2.063947, 0.0, 0.0, 0.0, 0.0, ...\n",
       "4863     4890  [0.0, 0.0, 0.0, 1.9121394, 0.0, 0.0, 0.0, 0.0,...\n",
       "\n",
       "[4864 rows x 2 columns]"
      ]
     },
     "execution_count": 10,
     "metadata": {},
     "output_type": "execute_result"
    }
   ],
   "source": [
    "embedding_df = pd.DataFrame()\n",
    "with torch.no_grad():\n",
    "    for i, data in enumerate(train_loader):\n",
    "        inputs, label, id = data\n",
    "        outputs, embedding = model(inputs)\n",
    "        embedding_np = embedding.cpu().numpy()\n",
    "        \n",
    "        # Create a temporary DataFrame\n",
    "        temp_df = pd.DataFrame({\n",
    "            'cell-id': int(id[0].numpy()),\n",
    "            'embedding': [list(embedding_np[0])]\n",
    "        })\n",
    "        \n",
    "        # Append to the main DataFrame\n",
    "        embedding_df = pd.concat([embedding_df, temp_df], ignore_index=True)\n",
    "\n",
    "        # print(id)\n",
    "\n",
    "        # if i==2:\n",
    "        #     break\n",
    "\n",
    "embedding_df.to_csv('weather-embedding.csv', index=False)\n",
    "embedding_df"
   ]
  },
  {
   "cell_type": "code",
   "execution_count": null,
   "metadata": {},
   "outputs": [],
   "source": []
  }
 ],
 "metadata": {
  "kernelspec": {
   "display_name": "PyTorch",
   "language": "python",
   "name": "python3"
  },
  "language_info": {
   "codemirror_mode": {
    "name": "ipython",
    "version": 3
   },
   "file_extension": ".py",
   "mimetype": "text/x-python",
   "name": "python",
   "nbconvert_exporter": "python",
   "pygments_lexer": "ipython3",
   "version": "3.9.12"
  }
 },
 "nbformat": 4,
 "nbformat_minor": 2
}
